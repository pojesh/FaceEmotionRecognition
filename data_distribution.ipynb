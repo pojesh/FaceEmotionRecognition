{
 "cells": [
  {
   "cell_type": "code",
   "execution_count": 1,
   "metadata": {},
   "outputs": [],
   "source": [
    "import os\n",
    "import glob\n",
    "from collections import Counter\n",
    "import pandas as pd"
   ]
  },
  {
   "cell_type": "code",
   "execution_count": 2,
   "metadata": {},
   "outputs": [],
   "source": [
    "dataset_root = r\"c:\\Users\\Pojesh\\Documents\\OfficialWorks\\MV_Project\\Dataset\\affectnet\\YOLO_format\""
   ]
  },
  {
   "cell_type": "code",
   "execution_count": 3,
   "metadata": {},
   "outputs": [],
   "source": [
    "class_names = [\n",
    "    \"Anger\",\n",
    "    \"Contempt\",\n",
    "    \"Disgust\",\n",
    "    \"Fear\",\n",
    "    \"Happy\",\n",
    "    \"Neutral\",\n",
    "    \"Sad\",\n",
    "    \"Surprise\",\n",
    "]"
   ]
  },
  {
   "cell_type": "code",
   "execution_count": 4,
   "metadata": {},
   "outputs": [],
   "source": [
    "def count_classes_in_folder(folder_path):\n",
    "    \"\"\"Count the number of images per class in a folder\"\"\"\n",
    "    class_counts = Counter()\n",
    "    \n",
    "    # Get all label files\n",
    "    label_files = glob.glob(os.path.join(folder_path, \"labels\", \"*.txt\"))\n",
    "    \n",
    "    for label_file in label_files:\n",
    "        try:\n",
    "            with open(label_file, 'r') as f:\n",
    "                first_line = f.readline().strip()\n",
    "                if first_line:\n",
    "                    # The class ID is the first number in the line\n",
    "                    class_id = int(first_line.split()[0])\n",
    "                    class_counts[class_id] += 1\n",
    "        except Exception as e:\n",
    "            print(f\"Error reading {label_file}: {e}\")\n",
    "    \n",
    "    return class_counts"
   ]
  },
  {
   "cell_type": "code",
   "execution_count": 5,
   "metadata": {},
   "outputs": [],
   "source": [
    "folders = [\"train\", \"valid\", \"test\"]\n",
    "results = {}\n"
   ]
  },
  {
   "cell_type": "code",
   "execution_count": 6,
   "metadata": {},
   "outputs": [
    {
     "name": "stdout",
     "output_type": "stream",
     "text": [
      "\n",
      "Counts for train folder:\n",
      "  Anger: 2339 images\n",
      "  Contempt: 1996 images\n",
      "  Disgust: 2242 images\n",
      "  Fear: 2021 images\n",
      "  Happy: 2154 images\n",
      "  Neutral: 1616 images\n",
      "  Sad: 1914 images\n",
      "  Surprise: 2819 images\n",
      "  Total: 17101 images\n",
      "\n",
      "Counts for valid folder:\n",
      "  Anger: 712 images\n",
      "  Contempt: 618 images\n",
      "  Disgust: 672 images\n",
      "  Fear: 622 images\n",
      "  Happy: 791 images\n",
      "  Neutral: 514 images\n",
      "  Sad: 603 images\n",
      "  Surprise: 874 images\n",
      "  Total: 5406 images\n",
      "\n",
      "Counts for test folder:\n",
      "  Anger: 383 images\n",
      "  Contempt: 332 images\n",
      "  Disgust: 327 images\n",
      "  Fear: 318 images\n",
      "  Happy: 399 images\n",
      "  Neutral: 250 images\n",
      "  Sad: 278 images\n",
      "  Surprise: 468 images\n",
      "  Total: 2755 images\n"
     ]
    }
   ],
   "source": [
    "for folder in folders:\n",
    "    folder_path = os.path.join(dataset_root, folder)\n",
    "    if os.path.exists(folder_path):\n",
    "        counts = count_classes_in_folder(folder_path)\n",
    "        results[folder] = counts\n",
    "        print(f\"\\nCounts for {folder} folder:\")\n",
    "        total = 0\n",
    "        for class_id, count in sorted(counts.items()):\n",
    "            if 0 <= class_id < len(class_names):\n",
    "                print(f\"  {class_names[class_id]}: {count} images\")\n",
    "                total += count\n",
    "            else:\n",
    "                print(f\"  Unknown class {class_id}: {count} images\")\n",
    "                total += count\n",
    "        print(f\"  Total: {total} images\")\n",
    "    else:\n",
    "        print(f\"\\nFolder {folder_path} does not exist\")"
   ]
  },
  {
   "cell_type": "code",
   "execution_count": 7,
   "metadata": {},
   "outputs": [
    {
     "name": "stdout",
     "output_type": "stream",
     "text": [
      "\n",
      "Summary Table:\n",
      "Folder  Anger  Contempt  Disgust  Fear  Happy  Neutral  Sad  Surprise  Total\n",
      " train   2339      1996     2242  2021   2154     1616 1914      2819  17101\n",
      " valid    712       618      672   622    791      514  603       874   5406\n",
      "  test    383       332      327   318    399      250  278       468   2755\n"
     ]
    }
   ],
   "source": [
    "df_data = []\n",
    "for folder in folders:\n",
    "    if folder in results:\n",
    "        row = {\"Folder\": folder}\n",
    "        for class_id, name in enumerate(class_names):\n",
    "            row[name] = results[folder].get(class_id, 0)\n",
    "        row[\"Total\"] = sum(results[folder].values())\n",
    "        df_data.append(row)\n",
    "\n",
    "if df_data:\n",
    "    df = pd.DataFrame(df_data)\n",
    "    print(\"\\nSummary Table:\")\n",
    "    print(df.to_string(index=False))"
   ]
  },
  {
   "cell_type": "code",
   "execution_count": null,
   "metadata": {},
   "outputs": [],
   "source": [
    "'''Dataset Class Distribution(After Augmentation) - \n",
    "Summary Table:\n",
    "         Folder  Anger  Contempt  Disgust  Fear  Happy  Neutral  Sad  Surprise  Total\n",
    "train_augmented   2819      2819     2819  2819   2819     2819 2819      2819  22552\n",
    "          valid    712       618      672   622    791      514  603       874   5406\n",
    "           test    383       332      327   318    399      250  278       468   2755'''"
   ]
  }
 ],
 "metadata": {
  "kernelspec": {
   "display_name": "mv_project",
   "language": "python",
   "name": "python3"
  },
  "language_info": {
   "codemirror_mode": {
    "name": "ipython",
    "version": 3
   },
   "file_extension": ".py",
   "mimetype": "text/x-python",
   "name": "python",
   "nbconvert_exporter": "python",
   "pygments_lexer": "ipython3",
   "version": "3.10.11"
  }
 },
 "nbformat": 4,
 "nbformat_minor": 2
}
